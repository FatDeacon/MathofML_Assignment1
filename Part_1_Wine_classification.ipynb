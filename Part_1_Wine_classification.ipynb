{
 "cells": [
  {
   "cell_type": "code",
   "execution_count": null,
   "metadata": {},
   "outputs": [],
   "source": [
    "import matplotlib.pyplot as plt\n",
    "import pandas as pd\n",
    "import numpy as np\n",
    "from sklearn.datasets import load_wine\n",
    "from sklearn.preprocessing import StandardScaler\n",
    "import seaborn as sns"
   ]
  },
  {
   "cell_type": "code",
   "execution_count": null,
   "metadata": {},
   "outputs": [],
   "source": [
    "# TODO:\n",
    "# 1. Load the wine dataset\n",
    "# 2. Perform PCA\n",
    "# 3. Visualize PCA results (e.g., scatter plot, explained variance)\n",
    "#which ever you complete put complete infront of it"
   ]
  },
  {
   "cell_type": "code",
   "execution_count": null,
   "metadata": {},
   "outputs": [],
   "source": [
    "#Load and scale the wine dataset\n",
    "def load_and_scale_data():\n",
    "    # Load wine data from sklearn.datasets\n",
    "    # Standardize the features using StandardScaler\n",
    "    pass  "
   ]
  },
  {
   "cell_type": "code",
   "execution_count": null,
   "metadata": {},
   "outputs": [],
   "source": [
    "#Perform PCA using SVD\n",
    "def pca_svd(data):\n",
    "    # Perform Singular Value Decomposition (SVD)\n",
    "    # Return the left singular vectors (U), singular values (s), and right singular vectors (VT)\n",
    "    pass  "
   ]
  },
  {
   "cell_type": "code",
   "execution_count": null,
   "metadata": {},
   "outputs": [],
   "source": [
    "#Plot the first two principal components\n",
    "def plot_first_two_pcs(U, data, target):\n",
    "    # Calculate the first two principal components\n",
    "    # Create a scatter plot of the first two principal components\n",
    "    # Color code points according to the target variable\n",
    "    pass \n"
   ]
  },
  {
   "cell_type": "code",
   "execution_count": null,
   "metadata": {},
   "outputs": [],
   "source": [
    "#Create a heatmap for the first two principal components\n",
    "def heatmap_first_two_pcs(U, feature_names):\n",
    "    # Create a heatmap of the loadings of the first two principal components\n",
    "    pass  "
   ]
  },
  {
   "cell_type": "code",
   "execution_count": null,
   "metadata": {},
   "outputs": [],
   "source": [
    "if __name__ == \"__main__\":\n",
    "    # Load and preprocess data\n",
    "    wine_scaled, wine_target, wine_feature_names = load_and_scale_data()\n",
    "    \n",
    "    # Perform PCA\n",
    "    U, s, VT = pca_svd(wine_scaled)\n",
    "    \n",
    "    # Plotting tasks\n",
    "    plot_first_two_pcs(U, wine_scaled, wine_target)\n",
    "    heatmap_first_two_pcs(U, wine_feature_names)"
   ]
  }
 ],
 "metadata": {
  "language_info": {
   "name": "python"
  }
 },
 "nbformat": 4,
 "nbformat_minor": 2
}
