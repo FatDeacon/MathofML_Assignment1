{
 "cells": [
  {
   "cell_type": "code",
   "execution_count": null,
   "metadata": {},
   "outputs": [],
   "source": [
    "import matplotlib.pyplot as plt\n",
    "import pandas as pd\n",
    "import numpy as np\n",
    "from sklearn.datasets import load_breast_cancer\n",
    "from sklearn.preprocessing import StandardScaler\n",
    "from sklearn.decomposition import PCA"
   ]
  },
  {
   "cell_type": "code",
   "execution_count": null,
   "metadata": {},
   "outputs": [],
   "source": [
    "# TODO:\n",
    "# 1. Load the cancer dataset\n",
    "# 2. Perform PCA\n",
    "# 3. Train a linear SVM using the first two principal components\n",
    "# 4. Plot the decision boundary"
   ]
  },
  {
   "cell_type": "code",
   "execution_count": null,
   "metadata": {},
   "outputs": [],
   "source": [
    "# Function to load and prepare the cancer dataset\n",
    "def load_and_prepare_data():\n",
    "    # Load the breast cancer dataset from sklearn.datasets\n",
    "    # Extract the data (features) and target labels\n",
    "    # Standardize the features using StandardScaler\n",
    "    pass"
   ]
  },
  {
   "cell_type": "code",
   "execution_count": null,
   "metadata": {},
   "outputs": [],
   "source": [
    "# Function to perform PCA on the cancer dataset\n",
    "def perform_pca(data):\n",
    "    # Initialize a PCA object\n",
    "    # Fit the PCA on the standardized data\n",
    "    # Transform the data onto the principal components\n",
    "    pass\n"
   ]
  },
  {
   "cell_type": "code",
   "execution_count": null,
   "metadata": {},
   "outputs": [],
   "source": [
    "# Function to plot the results of PCA\n",
    "def plot_pca_results(pca, pca_data, target):\n",
    "    # Create a scatter plot of the first two principal components\n",
    "    # Color code points based on the target labels\n",
    "    # Optionally, create additional plots as necessary (e.g., scree plot to show explained variance)\n",
    "    pass\n"
   ]
  },
  {
   "cell_type": "code",
   "execution_count": null,
   "metadata": {},
   "outputs": [],
   "source": [
    "if __name__ == \"__main__\":\n",
    "    #call functions here\n",
    "    pass"
   ]
  }
 ],
 "metadata": {
  "language_info": {
   "name": "python"
  }
 },
 "nbformat": 4,
 "nbformat_minor": 2
}
